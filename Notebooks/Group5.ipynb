{
  "nbformat": 4,
  "nbformat_minor": 0,
  "metadata": {
    "colab": {
      "provenance": []
    },
    "kernelspec": {
      "name": "python3",
      "display_name": "Python 3"
    },
    "language_info": {
      "name": "python"
    }
  },
  "cells": [
    {
      "cell_type": "markdown",
      "source": [
        "# Import Libraries\n",
        "\n"
      ],
      "metadata": {
        "id": "5w1s7irErnHY"
      }
    },
    {
      "cell_type": "code",
      "source": [
        "import pandas as pd\n",
        "import numpy as np\n",
        "import requests\n",
        "import geopandas as gpd"
      ],
      "metadata": {
        "id": "h2x2oE9Yvwt0"
      },
      "execution_count": null,
      "outputs": []
    },
    {
      "cell_type": "markdown",
      "source": [
        "### Health Department Food Inspection Tracker\n",
        "\n",
        "1. Go to the Chicago Data Portal: https://data.cityofchicago.org/\n",
        "2. Find each dataset. Building violations, ward, and police.\n",
        "3. Add a data notes section to your github readme. This should include information about the source of your data, where it came from, how often it is updated, and the period of data it contains (e.g. 2010-present or 2012 to 2019)\n",
        "4. Lastly, test that this import works. This may take a while as the dataset is large."
      ],
      "metadata": {
        "id": "9E5GhJ0-x5IR"
      }
    },
    {
      "cell_type": "code",
      "source": [
        "hd = pd.read_csv(\"https://data.cityofchicago.org/resource/4ijn-s7e5.csv?$limit=500000\")\n",
        "# you can use any of these\n",
        "ward = gpd.read_file('https://data.cityofchicago.org/api/geospatial/sp34-6z76?method=export&format=GeoJSON')\n",
        "police = gpd.read_file('https://data.cityofchicago.org/api/geospatial/fthy-xz3r?method=export&format=GeoJSON')"
      ],
      "metadata": {
        "id": "fExSQKp9wD2b"
      },
      "execution_count": null,
      "outputs": []
    },
    {
      "cell_type": "code",
      "source": [],
      "metadata": {
        "id": "Ie49z7so8vpx"
      },
      "execution_count": null,
      "outputs": []
    },
    {
      "cell_type": "code",
      "source": [],
      "metadata": {
        "id": "cdbUT5Ej8xfW"
      },
      "execution_count": null,
      "outputs": []
    }
  ]
}